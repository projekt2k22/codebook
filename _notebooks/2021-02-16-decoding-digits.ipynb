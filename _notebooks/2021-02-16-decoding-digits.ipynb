{
 "cells": [
  {
   "cell_type": "markdown",
   "metadata": {},
   "source": [
    "# Decoding digits\n",
    "> Given a positive number and digits mapping table, count number of possible decodings.\n",
    "\n",
    "\n",
    "- toc: false \n",
    "- badges: true\n",
    "- comments: true\n",
    "- categories: [dynamic programming, counting]"
   ]
  },
  {
   "cell_type": "markdown",
   "metadata": {},
   "source": [
    "## Problem\n",
    "Given a positive number and a mapping table shown below\n",
    "\n",
    "```\n",
    "1 -> 'A'\n",
    "2 -> 'B'\n",
    "...\n",
    "...\n",
    "26 -> 'Z'\n",
    "```\n",
    "\n",
    "Count number of ways a positive number can be decoded. Example\n",
    "\n",
    "**Input** 128\n",
    "> This can be decoded into [ABH, LH]\n",
    "\n",
    "**Output** 2"
   ]
  },
  {
   "cell_type": "markdown",
   "metadata": {},
   "source": [
    "## Solution\n",
    "### Brute force\n",
    "The problem $T(n)$ can be broken down to two subproblem. \n",
    "1. $T(n-1)$ if the last digit lies between $[1-9]$\n",
    "2. $T(n-2)$ if the last two digit lies between $[10-26]$\n",
    "\n",
    "So the solution is sum of solution of subproblem. i.e.\n",
    "$$ T(n) = T(n-1) + T(n-2)$$"
   ]
  },
  {
   "cell_type": "code",
   "execution_count": 1,
   "metadata": {},
   "outputs": [],
   "source": [
    "def decode_seq_brute_force(seq, start_pos:int) -> int:\n",
    "    \n",
    "    # base case\n",
    "    if start_pos == 0 or start_pos == 1:\n",
    "        return 1\n",
    "    \n",
    "    total_count = 0\n",
    "    \n",
    "    # subproblem T(n-1)\n",
    "    if '1' <= seq[start_pos - 1] <= '9':\n",
    "        total_count += decode_seq_brute_force(seq, start_pos - 1)\n",
    "    \n",
    "    # subprobelm T(n - 2)\n",
    "    if seq[start_pos - 2] == '1' or (seq[start_pos - 2] == '2' and seq[start_pos - 1] <= '6'):\n",
    "            total_count += decode_seq_brute_force(seq, start_pos - 2)\n",
    "\n",
    "    return total_count"
   ]
  },
  {
   "cell_type": "markdown",
   "metadata": {},
   "source": [
    "Time and space complexity is exponential in `n` as subproblem are repeatedly/recursively solved and each recurssion requires its call stack\n",
    "\n",
    "### Unit test"
   ]
  },
  {
   "cell_type": "code",
   "execution_count": 7,
   "metadata": {},
   "outputs": [],
   "source": [
    "#collapse-hide\n",
    "def test_decode(f):\n",
    "    # 128 -> [ABH, LH]\n",
    "    assert f(str(128), 3) == 2\n",
    "    \n",
    "    # 123 -> [ABC, AW, LC]\n",
    "    assert f(str(123), 3) == 3\n",
    "    \n",
    "    # 1221 -> [ABBA, ABU, AVA, LVA, LU]\n",
    "    assert f(str(1221), 4) == 5\n",
    "\n",
    "test_decode(decode_seq_brute_force)"
   ]
  },
  {
   "cell_type": "markdown",
   "metadata": {},
   "source": [
    "### Dynamic programing\n",
    "Using bottom up approach we can solve smaller problem first. The solution to larger problem become trivial if subproblem is already solved as it requires adding subproblem solution [$\\theta(n)$]"
   ]
  },
  {
   "cell_type": "code",
   "execution_count": 11,
   "metadata": {},
   "outputs": [],
   "source": [
    "def decode_seq(num: int, dummy: None) -> int:\n",
    "    seq = str(num)\n",
    "    T = [0] * (len(seq) + 1)\n",
    "    \n",
    "    # base case\n",
    "    T[0] = T[1] = 1\n",
    "    \n",
    "    for start_pos in range(2, len(seq) + 1):\n",
    "        if '1' <= seq[start_pos - 1] <= '9':\n",
    "            T[start_pos] = T[start_pos - 1]\n",
    "        \n",
    "        if seq[start_pos - 2] == '1' or (seq[start_pos - 2] == '2' and seq[start_pos - 1] <= '6'):\n",
    "            T[start_pos] += T[start_pos - 2]\n",
    "    return T[-1]"
   ]
  },
  {
   "cell_type": "code",
   "execution_count": 12,
   "metadata": {},
   "outputs": [],
   "source": [
    "#collapse-hide\n",
    "test_decode(decode_seq)"
   ]
  },
  {
   "cell_type": "code",
   "execution_count": null,
   "metadata": {},
   "outputs": [],
   "source": []
  }
 ],
 "metadata": {
  "kernelspec": {
   "display_name": "Python 3",
   "language": "python",
   "name": "python3"
  },
  "language_info": {
   "codemirror_mode": {
    "name": "ipython",
    "version": 3
   },
   "file_extension": ".py",
   "mimetype": "text/x-python",
   "name": "python",
   "nbconvert_exporter": "python",
   "pygments_lexer": "ipython3",
   "version": "3.8.3"
  }
 },
 "nbformat": 4,
 "nbformat_minor": 4
}
