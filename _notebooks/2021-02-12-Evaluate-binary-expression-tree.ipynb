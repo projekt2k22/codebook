{
 "cells": [
  {
   "cell_type": "markdown",
   "metadata": {},
   "source": [
    "# Evaluate binary expression tree\n",
    "> Evaluate given binary tree representing algebraic expression\n",
    "\n",
    "- toc: false\n",
    "- badges: true\n",
    "- comments: true\n",
    "- categories: [tree, coding practice, easy]\n",
    "- image: images/expression_tree.png"
   ]
  },
  {
   "cell_type": "markdown",
   "metadata": {},
   "source": [
    "# Problem\n",
    "A binary expression tree is a binary tree where the operator are stored in the tree's internal nodes and the leaves contians constants. Assume each node in the tree has zero or two children\n",
    "\n",
    "![](../images/expression_tree.png)"
   ]
  },
  {
   "cell_type": "markdown",
   "metadata": {},
   "source": [
    "## Solution\n",
    "This can be solved by applyling the operator at the root to values obtained by _recursively_ evaluating left and right subtrees.\n",
    "\n",
    "### Terminating condition\n",
    "1. if the root is null return 0\n",
    "2. if the node is leaf, return the value of the node\n",
    "\n",
    "### Recurssion\n",
    "1. recurse to evaluate left subtree\n",
    "2. recurse to evaluate right subtree\n",
    "3. apply operator to the result from left and right subtree\n"
   ]
  },
  {
   "cell_type": "code",
   "execution_count": 69,
   "metadata": {},
   "outputs": [],
   "source": [
    "#collapse-hide\n",
    "class TreeNode:\n",
    "    def __init__(self, val, left=None, right=None):\n",
    "        self.val = val\n",
    "        self.left = left\n",
    "        self.right = right\n",
    "        \n",
    "    def is_leaf(self) -> bool:\n",
    "        return self.left is None and self.right is None\n",
    "\n",
    "    # string utility function for debugging and unit test\n",
    "    def __str__(self) -> str:\n",
    "        if self.is_leaf():\n",
    "            return str(self.val)\n",
    "        else:\n",
    "            return f\"({str(self.left)} {str(self.val)} {str(self.right)})\""
   ]
  },
  {
   "cell_type": "code",
   "execution_count": 76,
   "metadata": {},
   "outputs": [],
   "source": [
    "#collapse-hide\n",
    "def apply_binary_op(operator, l_operand, r_operand):\n",
    "    if operator == '/':\n",
    "        return l_operand / r_operand\n",
    "    elif operator == '*':\n",
    "        return l_operand * r_operand\n",
    "    elif operator == '+':\n",
    "        return l_operand + r_operand\n",
    "    elif operator == '-':\n",
    "        return l_operand - r_operand\n",
    "    else:\n",
    "        raise ValueError(f\"Operator '{operator}' not supported'\")"
   ]
  },
  {
   "cell_type": "code",
   "execution_count": 88,
   "metadata": {},
   "outputs": [],
   "source": [
    "def evaluate_binary_expression_tree(root:TreeNode):\n",
    "    # terminating conditions\n",
    "    if not root:\n",
    "        return 0\n",
    "    \n",
    "    if root.is_leaf():\n",
    "        return eval(root.val)\n",
    "    \n",
    "    # recursively solve right and left subtree\n",
    "    l_operand = evaluate_binary_expression_tree(root.left)\n",
    "    r_operand = evaluate_binary_expression_tree(root.right)\n",
    "    \n",
    "    # apply operator to result from right and left subtrees\n",
    "    return apply_binary_op(root.val, l_operand, r_operand)"
   ]
  },
  {
   "cell_type": "markdown",
   "metadata": {},
   "source": [
    "## Unit test\n",
    "Build the tree from above fig"
   ]
  },
  {
   "cell_type": "code",
   "execution_count": 89,
   "metadata": {},
   "outputs": [],
   "source": [
    "root = TreeNode('+')\n",
    "root.left = TreeNode('*')\n",
    "root.right = TreeNode('/')\n",
    "root.left.left = TreeNode('-')\n",
    "root.left.right = TreeNode('5')\n",
    "root.right.left = TreeNode('21.3')\n",
    "root.right.right = TreeNode('7')\n",
    "root.left.left.left = TreeNode('10')\n",
    "root.left.left.right = TreeNode('5')"
   ]
  },
  {
   "cell_type": "code",
   "execution_count": 93,
   "metadata": {},
   "outputs": [
    {
     "name": "stdout",
     "output_type": "stream",
     "text": [
      "(((10 - 5) * 5) + (21.3 / 7)) = 28.042857142857144\n"
     ]
    }
   ],
   "source": [
    "#collapse-output\n",
    "print(f\"{root} = {evaluate_binary_expression_tree(root)}\")"
   ]
  },
  {
   "cell_type": "code",
   "execution_count": 94,
   "metadata": {},
   "outputs": [
    {
     "name": "stdout",
     "output_type": "stream",
     "text": [
      "(((10 - 5) * 5) + (21.3 / 7)) = 28.042857142857144\n"
     ]
    }
   ],
   "source": [
    "#collapse-output\n",
    "print(f\"{root} = {eval(str(root))}\")"
   ]
  }
 ],
 "metadata": {
  "kernelspec": {
   "display_name": "Python 3",
   "language": "python",
   "name": "python3"
  },
  "language_info": {
   "codemirror_mode": {
    "name": "ipython",
    "version": 3
   },
   "file_extension": ".py",
   "mimetype": "text/x-python",
   "name": "python",
   "nbconvert_exporter": "python",
   "pygments_lexer": "ipython3",
   "version": "3.8.3"
  }
 },
 "nbformat": 4,
 "nbformat_minor": 4
}
