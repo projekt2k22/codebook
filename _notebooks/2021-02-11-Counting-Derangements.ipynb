{
 "cells": [
  {
   "cell_type": "markdown",
   "metadata": {},
   "source": [
    "# Counting Derangements\n",
    "> In combinatorial mathematics, a derangement is a permutation of the elements of a set, such that no element appears in its original position. In other words, a derangement is a permutation that has no fixed points (wiki).\n",
    "\n",
    "- toc: false \n",
    "- badges: true\n",
    "- comments: true\n",
    "- categories: [jupyter, dynamic programming, counting, combinatorial]"
   ]
  },
  {
   "cell_type": "markdown",
   "metadata": {},
   "source": [
    "## Problem\n",
    "\n",
    "Suppose that a professor gave a test to 4 students – A, B, C, and D – and wants to let them grade each other's tests. Of course, no student should grade his or her own test. How many ways could the professor hand the tests back to the students for grading, such that no student received his or her own test back? {% cite wiki_derangement %}"
   ]
  },
  {
   "cell_type": "markdown",
   "metadata": {},
   "source": [
    "## Solution\n",
    "Counting the derangements of a set amounts to what is known as the hat-check problem, in which one considers the number of ways in which `n` hats (call them $h_1$ through $h_n$) can be returned to n people ($P_1$ through $P_n$) such that no hat makes it back to its owner.\n",
    "\n",
    "Each person may receive any of the $n − 1$ hats that is not their own. Call whichever hat $P_1$ receives $h_i$ and consider $h_i$’s owner: $P_i$ receives either $P_1$'s hat, $h_1$, or some other. Accordingly, the problem splits into two possible cases:\n",
    "\n",
    "1. $P_i$ receives a hat other than $h_1$. This case is equivalent to solving the problem with $n − 1$ people and $n − 1$ hats because for each of the $n − 1$ people besides $P_1$ there is exactly one hat from among the remaining $n − 1$ hats that they may not receive (for any $P_j$ besides $P_i$, the unreceivable hat is $h_j$, while for $P_i$ it is $h_1$).\n",
    "\n",
    "2. $P_i$ receives $h_1$. In this case the problem reduces to $n − 2$ people and $n − 2$ hats.\n",
    "\n",
    "For each of the $n − 1$ hats that $P_1$ may receive, the number of ways that $P_2, \\dots ,P_n$ may all receive hats is the sum of the counts for the two cases. This gives us the solution to the hat-check problem: stated algebraically, the number !n of derangements of an n-element set is\n",
    "\n",
    "$$!n = (n − 1) (!(n − 1) + !(n − 2)),$$\n",
    "\n",
    "where !0 = 1 and !1 = 0."
   ]
  },
  {
   "cell_type": "code",
   "execution_count": 3,
   "metadata": {},
   "outputs": [],
   "source": [
    "def derangements(n):\n",
    " \n",
    "    # create an auxiliary array to store solutions to the subproblems\n",
    "    T = [0] * (n + 1)\n",
    " \n",
    "    # base case\n",
    "    T[1] = 0\n",
    "    T[2] = 1\n",
    " \n",
    "    # fill the auxiliary array `T` in a bottom-up manner using the recurrence relation\n",
    "    for i in range(3, n + 1):\n",
    "        T[i] = (i - 1) * (T[i - 1] + T[i - 2])\n",
    " \n",
    "    # return the total number of derangements of an n–element set\n",
    "    return T[n]"
   ]
  },
  {
   "cell_type": "code",
   "execution_count": 7,
   "metadata": {},
   "outputs": [
    {
     "name": "stdout",
     "output_type": "stream",
     "text": [
      "The total number of derangements of a 4–element set is 9\n"
     ]
    }
   ],
   "source": [
    "#collapse-output\n",
    "n = 4\n",
    "print(f\"The total number of derangements of a {n}–element set is\", derangements(n))"
   ]
  },
  {
   "cell_type": "markdown",
   "metadata": {},
   "source": [
    "## Refrences\n",
    "\n",
    "{% bibliography --cited %}"
   ]
  },
  {
   "cell_type": "code",
   "execution_count": null,
   "metadata": {},
   "outputs": [],
   "source": []
  }
 ],
 "metadata": {
  "kernelspec": {
   "display_name": "Python 3",
   "language": "python",
   "name": "python3"
  },
  "language_info": {
   "codemirror_mode": {
    "name": "ipython",
    "version": 3
   },
   "file_extension": ".py",
   "mimetype": "text/x-python",
   "name": "python",
   "nbconvert_exporter": "python",
   "pygments_lexer": "ipython3",
   "version": "3.8.3"
  }
 },
 "nbformat": 4,
 "nbformat_minor": 4
}
