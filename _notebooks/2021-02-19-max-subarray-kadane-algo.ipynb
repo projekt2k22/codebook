{
 "cells": [
  {
   "cell_type": "markdown",
   "metadata": {},
   "source": [
    "# Find maximum sum subarray\n",
    "> Given an array, find contigous subarray that has maximum sum\n",
    "\n",
    "- toc: false\n",
    "- badges: true\n",
    "- comments: true\n",
    "- categories: [array, dynamic programming]"
   ]
  },
  {
   "cell_type": "markdown",
   "metadata": {},
   "source": [
    "## Problem\n",
    "Given an array, find a subarray (contigous element in array) that has maximum sum. \n",
    "\n",
    "Example:\n",
    "```\n",
    "Input:  [-2, 1, -3, 4, -1, 2, 1, -5, 4]\n",
    "Output: 6\n",
    "\n",
    "The sum of subarray [4, -1, 2, 1] is 6 which is maximum of all subarray possible\n",
    "```"
   ]
  },
  {
   "cell_type": "markdown",
   "metadata": {},
   "source": [
    "## Solution\n",
    "Kadane's algorithm {% cite wiki_kadane %} scan's the given array and maintains maximum sum at all the index."
   ]
  },
  {
   "cell_type": "code",
   "execution_count": 27,
   "metadata": {},
   "outputs": [],
   "source": [
    "def max_sum_subarray(nums):\n",
    "    # stores the maximum sum sublist found so far\n",
    "    max_so_far = nums[0]\n",
    " \n",
    "    # stores the maximum sum of sublist ending at the current position\n",
    "    max_ending_here = nums[0]\n",
    " \n",
    "    # traverse the given list\n",
    "    for num in nums[1:]:\n",
    "        # update the maximum sum of sublist \"ending\" at index `i`\n",
    "        max_ending_here = max_ending_here + num\n",
    " \n",
    "        # maximum sum should be more than the current element\n",
    "        max_ending_here = max(max_ending_here, num)\n",
    " \n",
    "        # update the result if the current sublist sum is found to be greater\n",
    "        max_so_far = max(max_so_far, max_ending_here)\n",
    " \n",
    "    return max_so_far"
   ]
  },
  {
   "cell_type": "code",
   "execution_count": 33,
   "metadata": {},
   "outputs": [
    {
     "name": "stdout",
     "output_type": "stream",
     "text": [
      "Max sum subaary of [-2, -1, -3, -4, -1, -2, -1, -5, -4] = -1\n",
      "Max sum subaary of [-2, 1, -3, 4, -1, 2, 1, -5, 4] = 6\n"
     ]
    }
   ],
   "source": [
    "#collapse-hide\n",
    "nums = [-2, -1, -3, -4, -1, -2, -1, -5, -4]\n",
    "print(f\"Max sum subaary of {nums} = {max_sum_subarray(nums)}\")\n",
    "nums = [-2, 1, -3, 4, -1, 2, 1, -5, 4]\n",
    "print(f\"Max sum subaary of {nums} = {max_sum_subarray(nums)}\")"
   ]
  },
  {
   "cell_type": "markdown",
   "metadata": {},
   "source": [
    "## References\n",
    "{% bibliography --cited %}"
   ]
  },
  {
   "cell_type": "code",
   "execution_count": null,
   "metadata": {},
   "outputs": [],
   "source": []
  }
 ],
 "metadata": {
  "kernelspec": {
   "display_name": "Python 3",
   "language": "python",
   "name": "python3"
  },
  "language_info": {
   "codemirror_mode": {
    "name": "ipython",
    "version": 3
   },
   "file_extension": ".py",
   "mimetype": "text/x-python",
   "name": "python",
   "nbconvert_exporter": "python",
   "pygments_lexer": "ipython3",
   "version": "3.8.3"
  }
 },
 "nbformat": 4,
 "nbformat_minor": 4
}
