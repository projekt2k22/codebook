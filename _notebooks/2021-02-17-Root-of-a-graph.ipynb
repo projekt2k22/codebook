{
 "cells": [
  {
   "cell_type": "markdown",
   "metadata": {},
   "source": [
    "# Find root vertex of a graph\n",
    "> Given a graph find a vertex `v` such that all other vertex is reachable from `v`\n",
    "\n",
    "- toc: false\n",
    "- badges: true\n",
    "- comments: true\n",
    "- categories: [graph, dfs]"
   ]
  },
  {
   "cell_type": "code",
   "execution_count": null,
   "metadata": {},
   "outputs": [],
   "source": [
    "# collapse-output\n",
    "# Optional\n",
    "!pip install networkx\n",
    "!pip install matplotlib"
   ]
  },
  {
   "cell_type": "markdown",
   "metadata": {},
   "source": [
    "## Problem\n",
    "Given a directed graph, find a root vertex of the graph. The root vertex $\\mathcal{v}$ is defined as any vertex $\\mathcal{v} \\in \\mathcal{G(V, E)}$ such that all other vertex in $\\mathcal{G}$ can be reached.\n",
    "\n",
    "For example in the graph below, the vertex `4` is a root vertex as all other vertex can be reached from `4`"
   ]
  },
  {
   "cell_type": "code",
   "execution_count": 1,
   "metadata": {},
   "outputs": [
    {
     "data": {
      "image/png": "[encoded data removed]",
      "text/plain": [
       "<Figure size 432x288 with 1 Axes>"
      ]
     },
     "metadata": {},
     "output_type": "display_data"
    }
   ],
   "source": [
    "#collapse-hide\n",
    "import networkx as nx\n",
    "import matplotlib.pyplot as plt\n",
    "\n",
    "G = nx.DiGraph()\n",
    "\n",
    "edges = [(0, 1), (1, 2), (2, 3), (3, 0), (4, 3), (4, 5), (5, 0)]\n",
    "G.add_edges_from(edges)\n",
    "nx.draw(G, with_labels=True, font_weight='bold')\n",
    "\n",
    "# total number of nodes in the graph\n",
    "N = 6"
   ]
  },
  {
   "cell_type": "markdown",
   "metadata": {},
   "source": [
    "## Solution\n",
    "\n",
    "This can be solved by doing depth first search (DFS) on the graph and keeping track of the node with highest departure time. The vertex with highest departure time could be the root node if all other node can be reached by doing DFS starting that vertex"
   ]
  },
  {
   "cell_type": "code",
   "execution_count": 34,
   "metadata": {},
   "outputs": [],
   "source": [
    "from typing import List\n",
    "from typing import Tuple\n",
    "\n",
    "\n",
    "class Graph:\n",
    "    def __init__(self, num_vertices: int, edges: List[Tuple[int, int]]) -> None:\n",
    "        self.num_vertices = num_vertices\n",
    "        self.adj = [[] for i in range(self.num_vertices)]\n",
    "        \n",
    "        for edge in edges:\n",
    "            self.add_edge(edge[0], edge[1])\n",
    "    \n",
    "    def add_edge(self, src: int, dest: int) -> None:\n",
    "        self.adj[src].append(dest)        "
   ]
  },
  {
   "cell_type": "code",
   "execution_count": 35,
   "metadata": {},
   "outputs": [],
   "source": [
    "def depth_first_search(g: Graph, start_vertex_id: int, visited:List[bool]):\n",
    "\n",
    "    visited[start_vertex_id] = True\n",
    "\n",
    "    for vertex in g.adj[start_vertex_id]:\n",
    "        if not visited[vertex]:\n",
    "            depth_first_search(g, vertex, visited)\n"
   ]
  },
  {
   "cell_type": "code",
   "execution_count": 36,
   "metadata": {},
   "outputs": [],
   "source": [
    "def find_root_vertex(graph: Graph) -> int:\n",
    "    \n",
    "    visited = [False] * graph.num_vertices\n",
    "    \n",
    "    # last visited vertex in DFS has the highest departure time\n",
    "    last_visited = -1\n",
    "    \n",
    "    for i in range(graph.num_vertices):\n",
    "        if not visited[i]:\n",
    "            last_visited = i\n",
    "            depth_first_search(graph, i, visited)\n",
    "    \n",
    "    # Re-run DFS starting last_visited node as the root \n",
    "    # to verify if all vertex can be reached\n",
    "    visited = [False] * graph.num_vertices\n",
    "    depth_first_search(graph, last_visited, visited)\n",
    "    \n",
    "    # verifying if all nodes has been visited\n",
    "    for i in range(graph.num_vertices):\n",
    "        if not visited[i]:\n",
    "            return -1\n",
    "    \n",
    "    # returning the root candidate\n",
    "    return last_visited"
   ]
  },
  {
   "cell_type": "code",
   "execution_count": 37,
   "metadata": {},
   "outputs": [
    {
     "name": "stdout",
     "output_type": "stream",
     "text": [
      "The root vertex is 4\n"
     ]
    }
   ],
   "source": [
    "# collapse-hide\n",
    "# build a directed graph from the given edges\n",
    "graph = Graph(N, edges)\n",
    "\n",
    "# find the root vertex in the graph\n",
    "root = find_root_vertex(graph)\n",
    "\n",
    "if root != -1:\n",
    "    print(f\"The root vertex is {root}\")\n",
    "else:\n",
    "    print(\"The root vertex does not exist\")"
   ]
  }
 ],
 "metadata": {
  "kernelspec": {
   "display_name": "Python 3",
   "language": "python",
   "name": "python3"
  },
  "language_info": {
   "codemirror_mode": {
    "name": "ipython",
    "version": 3
   },
   "file_extension": ".py",
   "mimetype": "text/x-python",
   "name": "python",
   "nbconvert_exporter": "python",
   "pygments_lexer": "ipython3",
   "version": "3.8.3"
  }
 },
 "nbformat": 4,
 "nbformat_minor": 4
}
